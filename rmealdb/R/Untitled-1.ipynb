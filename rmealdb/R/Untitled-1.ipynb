{
 "cells": [
  {
   "cell_type": "code",
   "execution_count": null,
   "metadata": {
    "vscode": {
     "languageId": "r"
    }
   },
   "outputs": [],
   "source": [
    "#' Get All Meal Categories\n",
    "#'\n",
    "#' Lists all available meal categories from TheMealDB API.\n",
    "#'\n",
    "#' @return A dataframe containing category names and descriptions.\n",
    "#' @examples\n",
    "#' @export\n",
    "install.packages(\"conflicted\")\n",
    "library(conflicted)\n",
    "library(tidyverse)\n",
    "#' get_categories()\n",
    "library(tidyverse)   # Load the magrittr package for the pipe operator\n",
    "\n",
    "get_categories <- function() {\n",
    "  url <- \"https://www.themealdb.com/api/json/v1/1/categories.php\"\n",
    "\n",
    "  response <- httr2::request(url) %>%\n",
    "    httr2::req_perform() %>%\n",
    "    httr2::resp_body_json()\n",
    "\n",
    "  return(response$categories)\n",
    "}\n",
    "get_categories()"
   ]
  }
 ],
 "metadata": {
  "kernelspec": {
   "display_name": "R",
   "language": "R",
   "name": "ir"
  },
  "language_info": {
   "codemirror_mode": "r",
   "file_extension": ".r",
   "mimetype": "text/x-r-source",
   "name": "R",
   "pygments_lexer": "r",
   "version": "4.3.3"
  }
 },
 "nbformat": 4,
 "nbformat_minor": 2
}
