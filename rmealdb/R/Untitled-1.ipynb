{
 "cells": [
  {
   "cell_type": "code",
   "execution_count": 2,
   "metadata": {
    "vscode": {
     "languageId": "r"
    }
   },
   "outputs": [
    {
     "ename": "ERROR",
     "evalue": "Error in loadNamespace(name): there is no package called 'httr2'\n",
     "output_type": "error",
     "traceback": [
      "Error in loadNamespace(name): there is no package called 'httr2'\nTraceback:\n",
      "1. get_categories()",
      "2. httr2::request(url) %>% httr2::req_perform() %>% httr2::resp_body_json()   # at line 15-17 of file <text>",
      "3. eval(lhs, parent, parent)",
      "4. eval(lhs, parent, parent)",
      "5. httr2::request",
      "6. getExportedValue(pkg, name)",
      "7. asNamespace(ns)",
      "8. getNamespace(ns)",
      "9. loadNamespace(name)",
      "10. withRestarts(stop(cond), retry_loadNamespace = function() NULL)",
      "11. withOneRestart(expr, restarts[[1L]])",
      "12. doWithOneRestart(return(expr), restart)"
     ]
    }
   ],
   "source": [
    "#' Get All Meal Categories\n",
    "#'\n",
    "#' Lists all available meal categories from TheMealDB API.\n",
    "#'\n",
    "#' @return A dataframe containing category names and descriptions.\n",
    "#' @examples\n",
    "#' @export\n",
    "\n",
    "#' get_categories()\n",
    "library(tidyverse)   # Load the magrittr package for the pipe operator\n",
    "\n",
    "get_categories <- function() {\n",
    "  url <- \"https://www.themealdb.com/api/json/v1/1/categories.php\"\n",
    "\n",
    "  response <- httr2::request(url) %>%\n",
    "    httr2::req_perform() %>%\n",
    "    httr2::resp_body_json()\n",
    "\n",
    "  return(response$categories)\n",
    "}\n",
    "get_categories()"
   ]
  }
 ],
 "metadata": {
  "kernelspec": {
   "display_name": "R",
   "language": "R",
   "name": "ir"
  },
  "language_info": {
   "codemirror_mode": "r",
   "file_extension": ".r",
   "mimetype": "text/x-r-source",
   "name": "R",
   "pygments_lexer": "r",
   "version": "3.6.1"
  }
 },
 "nbformat": 4,
 "nbformat_minor": 2
}
